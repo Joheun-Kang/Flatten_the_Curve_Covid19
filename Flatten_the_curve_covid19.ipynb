{
 "cells": [
  {
   "cell_type": "markdown",
   "metadata": {
    "colab_type": "text",
    "id": "N5JWR3LcuvxO"
   },
   "source": [
    " \n",
    "\n",
    "\n",
    "# Title: Flatten the Curve!\n",
    "### Team members: Joh Eun Kang, Dinesh Sreekanthan\n"
   ]
  },
  {
   "cell_type": "markdown",
   "metadata": {
    "colab_type": "text",
    "id": "HhFWAa9U_Hds"
   },
   "source": [
    "# Getting Start\n",
    "\n",
    "In order to run this notebook efficiently, plase follow the instrunction below.<br>\n",
    "\n",
    "__Option1)__ recommand  \n",
    "1. please download the __yellow_tripdata_2019-09.csv__ <br>\n",
    " https://www1.nyc.gov/site/tlc/about/tlc-trip-record-data.page\n",
    "2. In your google drive, make a directory called \"yellow\" and put this notebook in the yellow directory. Your should be in the <br>\n",
    "__/content/drive/My Drive/yellow/project_4__ <br>\n",
    "\n",
    "\n",
    "__Option2)__\n",
    "1. please download the __yellow_tripdata_2019-09.csv__ <br>\n",
    " https://www1.nyc.gov/site/tlc/about/tlc-trip-record-data.page \n",
    "\n",
    "2. Then, you change the file paths in this notebook to your own file paths."
   ]
  },
  {
   "cell_type": "markdown",
   "metadata": {
    "colab_type": "text",
    "id": "Z7kNRnS29rCA"
   },
   "source": [
    "# Assumtion: <br>\n",
    "\n",
    "1. We are only using 2019 September data \n",
    "2. Only Manhattan Area location number 43 (central park).<br>\n",
    "3. User input value is needed (reservation date, reservation time)\n",
    "4. Reject reservation if there are more people than threshold\n",
    "\n",
    " \n"
   ]
  },
  {
   "cell_type": "markdown",
   "metadata": {
    "colab_type": "text",
    "id": "HUJPEsT7_5TM"
   },
   "source": [
    "# Import Libraries\n"
   ]
  },
  {
   "cell_type": "code",
   "execution_count": 0,
   "metadata": {
    "colab": {},
    "colab_type": "code",
    "id": "g4M9ITIG_9HM"
   },
   "outputs": [],
   "source": [
    "import numpy as np\n",
    "import pandas as pd\n",
    "import os\n",
    "import sys\n",
    "import io"
   ]
  },
  {
   "cell_type": "markdown",
   "metadata": {
    "colab_type": "text",
    "id": "N1korLWk-uEG"
   },
   "source": [
    "# Download data & Mount to your Google Drive"
   ]
  },
  {
   "cell_type": "code",
   "execution_count": 0,
   "metadata": {
    "colab": {},
    "colab_type": "code",
    "id": "y70GB7H2-5ss"
   },
   "outputs": [],
   "source": [
    "# from the github, download the data we used for this project."
   ]
  },
  {
   "cell_type": "code",
   "execution_count": 0,
   "metadata": {
    "colab": {
     "base_uri": "https://localhost:8080/",
     "height": 33
    },
    "colab_type": "code",
    "id": "VrSVwEqU-1-5",
    "outputId": "fdf85466-0ba7-41b8-c467-089b80d9eae6"
   },
   "outputs": [
    {
     "name": "stdout",
     "output_type": "stream",
     "text": [
      "Drive already mounted at /content/drive/; to attempt to forcibly remount, call drive.mount(\"/content/drive/\", force_remount=True).\n"
     ]
    }
   ],
   "source": [
    "from google.colab import drive\n",
    "drive.mount('/content/drive/')"
   ]
  },
  {
   "cell_type": "code",
   "execution_count": 0,
   "metadata": {
    "colab": {
     "base_uri": "https://localhost:8080/",
     "height": 33
    },
    "colab_type": "code",
    "id": "WcKc7NUf_Irx",
    "outputId": "809f1b57-3926-423b-8dec-69c0d3a0d4e8"
   },
   "outputs": [
    {
     "name": "stdout",
     "output_type": "stream",
     "text": [
      "/content/drive/My Drive/yellow/project_4\n"
     ]
    }
   ],
   "source": [
    "%cd /content/drive/My Drive/yellow/project_4"
   ]
  },
  {
   "cell_type": "code",
   "execution_count": 0,
   "metadata": {
    "colab": {
     "base_uri": "https://localhost:8080/",
     "height": 82
    },
    "colab_type": "code",
    "id": "hEwbs62t_WxO",
    "outputId": "92f591bb-8d54-4d17-e192-2e490251dbee"
   },
   "outputs": [
    {
     "name": "stdout",
     "output_type": "stream",
     "text": [
      " taxi+_zone_lookup.csv\t\t yellow_tripdata_2017-09.csv\n",
      "'taxi_zone_map_manhattan .jpg'\t yellow_tripdata_2018-09.csv\n",
      " yellow_tripdata_2014-09.csv\t yellow_tripdata_2019-09.csv\n",
      " yellow_tripdata_2015-09.csv\n"
     ]
    }
   ],
   "source": [
    "!ls"
   ]
  },
  {
   "cell_type": "markdown",
   "metadata": {
    "colab_type": "text",
    "id": "TF-wBorC_gkk"
   },
   "source": [
    "# CSV file from Google Drive\n",
    "1. Left of your colab file, you can fine the files Icon. \n",
    "2. go to drive -> My Drive \n",
    "3. find the 'yello' file \n",
    "4. copy the path\n",
    "\n",
    "__NOTE__ since we have alreay have the code below, you will be fine if your location is same as our location. <br>"
   ]
  },
  {
   "cell_type": "code",
   "execution_count": 0,
   "metadata": {
    "colab": {
     "base_uri": "https://localhost:8080/",
     "height": 70
    },
    "colab_type": "code",
    "id": "8qV2VczkCzXp",
    "outputId": "ade68530-fa1f-4b8f-f7b6-50b8704c670e"
   },
   "outputs": [
    {
     "name": "stderr",
     "output_type": "stream",
     "text": [
      "/usr/local/lib/python3.6/dist-packages/IPython/core/interactiveshell.py:2718: DtypeWarning: Columns (6) have mixed types.Specify dtype option on import or set low_memory=False.\n",
      "  interactivity=interactivity, compiler=compiler, result=result)\n"
     ]
    }
   ],
   "source": [
    "y_2019 = pd.read_csv('/content/drive/My Drive/yellow/project_4/yellow_tripdata_2019-09.csv')\n"
   ]
  },
  {
   "cell_type": "code",
   "execution_count": 0,
   "metadata": {
    "colab": {
     "base_uri": "https://localhost:8080/",
     "height": 182
    },
    "colab_type": "code",
    "id": "OFdBFZngGjEg",
    "outputId": "054cd4a0-9371-4a0a-f860-85bdf82e1a11"
   },
   "outputs": [
    {
     "data": {
      "text/html": [
       "<div>\n",
       "<style scoped>\n",
       "    .dataframe tbody tr th:only-of-type {\n",
       "        vertical-align: middle;\n",
       "    }\n",
       "\n",
       "    .dataframe tbody tr th {\n",
       "        vertical-align: top;\n",
       "    }\n",
       "\n",
       "    .dataframe thead th {\n",
       "        text-align: right;\n",
       "    }\n",
       "</style>\n",
       "<table border=\"1\" class=\"dataframe\">\n",
       "  <thead>\n",
       "    <tr style=\"text-align: right;\">\n",
       "      <th></th>\n",
       "      <th>VendorID</th>\n",
       "      <th>tpep_pickup_datetime</th>\n",
       "      <th>tpep_dropoff_datetime</th>\n",
       "      <th>passenger_count</th>\n",
       "      <th>trip_distance</th>\n",
       "      <th>RatecodeID</th>\n",
       "      <th>store_and_fwd_flag</th>\n",
       "      <th>PULocationID</th>\n",
       "      <th>DOLocationID</th>\n",
       "      <th>payment_type</th>\n",
       "      <th>fare_amount</th>\n",
       "      <th>extra</th>\n",
       "      <th>mta_tax</th>\n",
       "      <th>tip_amount</th>\n",
       "      <th>tolls_amount</th>\n",
       "      <th>improvement_surcharge</th>\n",
       "      <th>total_amount</th>\n",
       "      <th>congestion_surcharge</th>\n",
       "    </tr>\n",
       "  </thead>\n",
       "  <tbody>\n",
       "    <tr>\n",
       "      <th>1</th>\n",
       "      <td>1.0</td>\n",
       "      <td>2019-09-01 00:29:17</td>\n",
       "      <td>2019-09-01 00:57:54</td>\n",
       "      <td>1.0</td>\n",
       "      <td>5.5</td>\n",
       "      <td>1.0</td>\n",
       "      <td>N</td>\n",
       "      <td>161</td>\n",
       "      <td>256</td>\n",
       "      <td>2.0</td>\n",
       "      <td>22.5</td>\n",
       "      <td>3.0</td>\n",
       "      <td>0.5</td>\n",
       "      <td>0.0</td>\n",
       "      <td>0.0</td>\n",
       "      <td>0.3</td>\n",
       "      <td>26.3</td>\n",
       "      <td>2.5</td>\n",
       "    </tr>\n",
       "    <tr>\n",
       "      <th>2</th>\n",
       "      <td>1.0</td>\n",
       "      <td>2019-09-01 00:41:32</td>\n",
       "      <td>2019-09-01 00:41:36</td>\n",
       "      <td>1.0</td>\n",
       "      <td>2.9</td>\n",
       "      <td>1.0</td>\n",
       "      <td>N</td>\n",
       "      <td>145</td>\n",
       "      <td>145</td>\n",
       "      <td>2.0</td>\n",
       "      <td>2.5</td>\n",
       "      <td>0.5</td>\n",
       "      <td>0.5</td>\n",
       "      <td>0.0</td>\n",
       "      <td>0.0</td>\n",
       "      <td>0.3</td>\n",
       "      <td>3.8</td>\n",
       "      <td>0.0</td>\n",
       "    </tr>\n",
       "    <tr>\n",
       "      <th>3</th>\n",
       "      <td>1.0</td>\n",
       "      <td>2019-09-01 00:59:11</td>\n",
       "      <td>2019-09-01 00:59:15</td>\n",
       "      <td>1.0</td>\n",
       "      <td>0.0</td>\n",
       "      <td>1.0</td>\n",
       "      <td>N</td>\n",
       "      <td>145</td>\n",
       "      <td>145</td>\n",
       "      <td>2.0</td>\n",
       "      <td>2.5</td>\n",
       "      <td>0.5</td>\n",
       "      <td>0.5</td>\n",
       "      <td>0.0</td>\n",
       "      <td>0.0</td>\n",
       "      <td>0.3</td>\n",
       "      <td>3.8</td>\n",
       "      <td>0.0</td>\n",
       "    </tr>\n",
       "    <tr>\n",
       "      <th>4</th>\n",
       "      <td>1.0</td>\n",
       "      <td>2019-09-01 00:39:41</td>\n",
       "      <td>2019-09-01 00:45:06</td>\n",
       "      <td>1.0</td>\n",
       "      <td>1.5</td>\n",
       "      <td>1.0</td>\n",
       "      <td>N</td>\n",
       "      <td>95</td>\n",
       "      <td>93</td>\n",
       "      <td>2.0</td>\n",
       "      <td>7.0</td>\n",
       "      <td>0.5</td>\n",
       "      <td>0.5</td>\n",
       "      <td>0.0</td>\n",
       "      <td>0.0</td>\n",
       "      <td>0.3</td>\n",
       "      <td>8.3</td>\n",
       "      <td>0.0</td>\n",
       "    </tr>\n",
       "  </tbody>\n",
       "</table>\n",
       "</div>"
      ],
      "text/plain": [
       "   VendorID tpep_pickup_datetime  ... total_amount  congestion_surcharge\n",
       "1       1.0  2019-09-01 00:29:17  ...         26.3                   2.5\n",
       "2       1.0  2019-09-01 00:41:32  ...          3.8                   0.0\n",
       "3       1.0  2019-09-01 00:59:11  ...          3.8                   0.0\n",
       "4       1.0  2019-09-01 00:39:41  ...          8.3                   0.0\n",
       "\n",
       "[4 rows x 18 columns]"
      ]
     },
     "execution_count": 55,
     "metadata": {
      "tags": []
     },
     "output_type": "execute_result"
    }
   ],
   "source": [
    "y_2019.iloc[1:5]"
   ]
  },
  {
   "cell_type": "code",
   "execution_count": 0,
   "metadata": {
    "colab": {
     "base_uri": "https://localhost:8080/",
     "height": 115
    },
    "colab_type": "code",
    "id": "c6_zzZjJPAbR",
    "outputId": "edc7422b-63c9-4eba-e1db-24bb77818ac3"
   },
   "outputs": [
    {
     "data": {
      "text/plain": [
       "Index(['VendorID', 'tpep_pickup_datetime', 'tpep_dropoff_datetime',\n",
       "       'passenger_count', 'trip_distance', 'RatecodeID', 'store_and_fwd_flag',\n",
       "       'PULocationID', 'DOLocationID', 'payment_type', 'fare_amount', 'extra',\n",
       "       'mta_tax', 'tip_amount', 'tolls_amount', 'improvement_surcharge',\n",
       "       'total_amount', 'congestion_surcharge'],\n",
       "      dtype='object')"
      ]
     },
     "execution_count": 56,
     "metadata": {
      "tags": []
     },
     "output_type": "execute_result"
    }
   ],
   "source": [
    "y_2019.columns"
   ]
  },
  {
   "cell_type": "code",
   "execution_count": 0,
   "metadata": {
    "colab": {
     "base_uri": "https://localhost:8080/",
     "height": 33
    },
    "colab_type": "code",
    "id": "yHcGhpjHhe8V",
    "outputId": "60bb8faa-039f-492f-c175-a099f6a27dcd"
   },
   "outputs": [
    {
     "name": "stdout",
     "output_type": "stream",
     "text": [
      "6567788\n"
     ]
    }
   ],
   "source": [
    "print(len(y_2019))"
   ]
  },
  {
   "cell_type": "markdown",
   "metadata": {
    "colab_type": "text",
    "id": "8vj8flbRUeAo"
   },
   "source": [
    "# Part 1"
   ]
  },
  {
   "cell_type": "markdown",
   "metadata": {
    "colab_type": "text",
    "id": "Cf5Rk5g_40Bj"
   },
   "source": [
    "## Data preprocessing"
   ]
  },
  {
   "cell_type": "code",
   "execution_count": 0,
   "metadata": {
    "colab": {},
    "colab_type": "code",
    "id": "IYQrTN63Gv45"
   },
   "outputs": [],
   "source": [
    "y_2019.columns = [c.replace(\" \", \"\") for c in y_2019.columns] # remove space in column name\n"
   ]
  },
  {
   "cell_type": "code",
   "execution_count": 0,
   "metadata": {
    "colab": {
     "base_uri": "https://localhost:8080/",
     "height": 182
    },
    "colab_type": "code",
    "id": "ndCs7j-gG54j",
    "outputId": "7eda34b0-f470-4f50-d409-0a7a58dff6e6"
   },
   "outputs": [
    {
     "data": {
      "text/html": [
       "<div>\n",
       "<style scoped>\n",
       "    .dataframe tbody tr th:only-of-type {\n",
       "        vertical-align: middle;\n",
       "    }\n",
       "\n",
       "    .dataframe tbody tr th {\n",
       "        vertical-align: top;\n",
       "    }\n",
       "\n",
       "    .dataframe thead th {\n",
       "        text-align: right;\n",
       "    }\n",
       "</style>\n",
       "<table border=\"1\" class=\"dataframe\">\n",
       "  <thead>\n",
       "    <tr style=\"text-align: right;\">\n",
       "      <th></th>\n",
       "      <th>VendorID</th>\n",
       "      <th>tpep_pickup_datetime</th>\n",
       "      <th>tpep_dropoff_datetime</th>\n",
       "      <th>passenger_count</th>\n",
       "      <th>trip_distance</th>\n",
       "      <th>RatecodeID</th>\n",
       "      <th>store_and_fwd_flag</th>\n",
       "      <th>PULocationID</th>\n",
       "      <th>DOLocationID</th>\n",
       "      <th>payment_type</th>\n",
       "      <th>fare_amount</th>\n",
       "      <th>extra</th>\n",
       "      <th>mta_tax</th>\n",
       "      <th>tip_amount</th>\n",
       "      <th>tolls_amount</th>\n",
       "      <th>improvement_surcharge</th>\n",
       "      <th>total_amount</th>\n",
       "      <th>congestion_surcharge</th>\n",
       "    </tr>\n",
       "  </thead>\n",
       "  <tbody>\n",
       "    <tr>\n",
       "      <th>1</th>\n",
       "      <td>1.0</td>\n",
       "      <td>2019-09-01 00:29:17</td>\n",
       "      <td>2019-09-01 00:57:54</td>\n",
       "      <td>1.0</td>\n",
       "      <td>5.5</td>\n",
       "      <td>1.0</td>\n",
       "      <td>N</td>\n",
       "      <td>161</td>\n",
       "      <td>256</td>\n",
       "      <td>2.0</td>\n",
       "      <td>22.5</td>\n",
       "      <td>3.0</td>\n",
       "      <td>0.5</td>\n",
       "      <td>0.0</td>\n",
       "      <td>0.0</td>\n",
       "      <td>0.3</td>\n",
       "      <td>26.3</td>\n",
       "      <td>2.5</td>\n",
       "    </tr>\n",
       "    <tr>\n",
       "      <th>2</th>\n",
       "      <td>1.0</td>\n",
       "      <td>2019-09-01 00:41:32</td>\n",
       "      <td>2019-09-01 00:41:36</td>\n",
       "      <td>1.0</td>\n",
       "      <td>2.9</td>\n",
       "      <td>1.0</td>\n",
       "      <td>N</td>\n",
       "      <td>145</td>\n",
       "      <td>145</td>\n",
       "      <td>2.0</td>\n",
       "      <td>2.5</td>\n",
       "      <td>0.5</td>\n",
       "      <td>0.5</td>\n",
       "      <td>0.0</td>\n",
       "      <td>0.0</td>\n",
       "      <td>0.3</td>\n",
       "      <td>3.8</td>\n",
       "      <td>0.0</td>\n",
       "    </tr>\n",
       "    <tr>\n",
       "      <th>3</th>\n",
       "      <td>1.0</td>\n",
       "      <td>2019-09-01 00:59:11</td>\n",
       "      <td>2019-09-01 00:59:15</td>\n",
       "      <td>1.0</td>\n",
       "      <td>0.0</td>\n",
       "      <td>1.0</td>\n",
       "      <td>N</td>\n",
       "      <td>145</td>\n",
       "      <td>145</td>\n",
       "      <td>2.0</td>\n",
       "      <td>2.5</td>\n",
       "      <td>0.5</td>\n",
       "      <td>0.5</td>\n",
       "      <td>0.0</td>\n",
       "      <td>0.0</td>\n",
       "      <td>0.3</td>\n",
       "      <td>3.8</td>\n",
       "      <td>0.0</td>\n",
       "    </tr>\n",
       "    <tr>\n",
       "      <th>4</th>\n",
       "      <td>1.0</td>\n",
       "      <td>2019-09-01 00:39:41</td>\n",
       "      <td>2019-09-01 00:45:06</td>\n",
       "      <td>1.0</td>\n",
       "      <td>1.5</td>\n",
       "      <td>1.0</td>\n",
       "      <td>N</td>\n",
       "      <td>95</td>\n",
       "      <td>93</td>\n",
       "      <td>2.0</td>\n",
       "      <td>7.0</td>\n",
       "      <td>0.5</td>\n",
       "      <td>0.5</td>\n",
       "      <td>0.0</td>\n",
       "      <td>0.0</td>\n",
       "      <td>0.3</td>\n",
       "      <td>8.3</td>\n",
       "      <td>0.0</td>\n",
       "    </tr>\n",
       "  </tbody>\n",
       "</table>\n",
       "</div>"
      ],
      "text/plain": [
       "   VendorID tpep_pickup_datetime  ... total_amount  congestion_surcharge\n",
       "1       1.0  2019-09-01 00:29:17  ...         26.3                   2.5\n",
       "2       1.0  2019-09-01 00:41:32  ...          3.8                   0.0\n",
       "3       1.0  2019-09-01 00:59:11  ...          3.8                   0.0\n",
       "4       1.0  2019-09-01 00:39:41  ...          8.3                   0.0\n",
       "\n",
       "[4 rows x 18 columns]"
      ]
     },
     "execution_count": 59,
     "metadata": {
      "tags": []
     },
     "output_type": "execute_result"
    }
   ],
   "source": [
    "y_2019.iloc[1:5]"
   ]
  },
  {
   "cell_type": "code",
   "execution_count": 0,
   "metadata": {
    "colab": {},
    "colab_type": "code",
    "id": "bSjnWrJYRpi9"
   },
   "outputs": [],
   "source": [
    "y_2019=y_2019[['tpep_pickup_datetime', 'tpep_dropoff_datetime','passenger_count','PULocationID','DOLocationID']]\n"
   ]
  },
  {
   "cell_type": "code",
   "execution_count": 0,
   "metadata": {
    "colab": {},
    "colab_type": "code",
    "id": "35ujzgWnSBvv"
   },
   "outputs": [],
   "source": [
    "y_2019[\"Type\"]=\"yellow\" # EDA analysis label\n"
   ]
  },
  {
   "cell_type": "markdown",
   "metadata": {
    "colab_type": "text",
    "id": "T-VRNgc5TEnE"
   },
   "source": [
    "Do this for all those dataset"
   ]
  },
  {
   "cell_type": "code",
   "execution_count": 0,
   "metadata": {
    "colab": {
     "base_uri": "https://localhost:8080/",
     "height": 162
    },
    "colab_type": "code",
    "id": "aivwMLNpSEie",
    "outputId": "4476f281-cf51-41b2-9201-1a5dbe693e26"
   },
   "outputs": [
    {
     "data": {
      "text/html": [
       "<div>\n",
       "<style scoped>\n",
       "    .dataframe tbody tr th:only-of-type {\n",
       "        vertical-align: middle;\n",
       "    }\n",
       "\n",
       "    .dataframe tbody tr th {\n",
       "        vertical-align: top;\n",
       "    }\n",
       "\n",
       "    .dataframe thead th {\n",
       "        text-align: right;\n",
       "    }\n",
       "</style>\n",
       "<table border=\"1\" class=\"dataframe\">\n",
       "  <thead>\n",
       "    <tr style=\"text-align: right;\">\n",
       "      <th></th>\n",
       "      <th>tpep_pickup_datetime</th>\n",
       "      <th>tpep_dropoff_datetime</th>\n",
       "      <th>passenger_count</th>\n",
       "      <th>PULocationID</th>\n",
       "      <th>DOLocationID</th>\n",
       "      <th>Type</th>\n",
       "    </tr>\n",
       "  </thead>\n",
       "  <tbody>\n",
       "    <tr>\n",
       "      <th>1</th>\n",
       "      <td>2019-09-01 00:29:17</td>\n",
       "      <td>2019-09-01 00:57:54</td>\n",
       "      <td>1.0</td>\n",
       "      <td>161</td>\n",
       "      <td>256</td>\n",
       "      <td>yellow</td>\n",
       "    </tr>\n",
       "    <tr>\n",
       "      <th>2</th>\n",
       "      <td>2019-09-01 00:41:32</td>\n",
       "      <td>2019-09-01 00:41:36</td>\n",
       "      <td>1.0</td>\n",
       "      <td>145</td>\n",
       "      <td>145</td>\n",
       "      <td>yellow</td>\n",
       "    </tr>\n",
       "    <tr>\n",
       "      <th>3</th>\n",
       "      <td>2019-09-01 00:59:11</td>\n",
       "      <td>2019-09-01 00:59:15</td>\n",
       "      <td>1.0</td>\n",
       "      <td>145</td>\n",
       "      <td>145</td>\n",
       "      <td>yellow</td>\n",
       "    </tr>\n",
       "    <tr>\n",
       "      <th>4</th>\n",
       "      <td>2019-09-01 00:39:41</td>\n",
       "      <td>2019-09-01 00:45:06</td>\n",
       "      <td>1.0</td>\n",
       "      <td>95</td>\n",
       "      <td>93</td>\n",
       "      <td>yellow</td>\n",
       "    </tr>\n",
       "  </tbody>\n",
       "</table>\n",
       "</div>"
      ],
      "text/plain": [
       "  tpep_pickup_datetime tpep_dropoff_datetime  ...  DOLocationID    Type\n",
       "1  2019-09-01 00:29:17   2019-09-01 00:57:54  ...           256  yellow\n",
       "2  2019-09-01 00:41:32   2019-09-01 00:41:36  ...           145  yellow\n",
       "3  2019-09-01 00:59:11   2019-09-01 00:59:15  ...           145  yellow\n",
       "4  2019-09-01 00:39:41   2019-09-01 00:45:06  ...            93  yellow\n",
       "\n",
       "[4 rows x 6 columns]"
      ]
     },
     "execution_count": 62,
     "metadata": {
      "tags": []
     },
     "output_type": "execute_result"
    }
   ],
   "source": [
    "y_2019.iloc[1:5]"
   ]
  },
  {
   "cell_type": "code",
   "execution_count": 0,
   "metadata": {
    "colab": {
     "base_uri": "https://localhost:8080/",
     "height": 66
    },
    "colab_type": "code",
    "id": "dUBJp_KDn1CY",
    "outputId": "a791c72d-208d-4e65-9cba-81abbdfa0be1"
   },
   "outputs": [
    {
     "data": {
      "text/plain": [
       "Index(['tpep_pickup_datetime', 'tpep_dropoff_datetime', 'passenger_count',\n",
       "       'PULocationID', 'DOLocationID', 'Type'],\n",
       "      dtype='object')"
      ]
     },
     "execution_count": 63,
     "metadata": {
      "tags": []
     },
     "output_type": "execute_result"
    }
   ],
   "source": [
    "y_2019.columns"
   ]
  },
  {
   "cell_type": "markdown",
   "metadata": {
    "colab_type": "text",
    "id": "AC0TT2lGpBbk"
   },
   "source": [
    "## Seperate the Dropoff_time to hour, minute, second"
   ]
  },
  {
   "cell_type": "code",
   "execution_count": 0,
   "metadata": {
    "colab": {
     "base_uri": "https://localhost:8080/",
     "height": 310
    },
    "colab_type": "code",
    "id": "C13kIkw99EZE",
    "outputId": "85025718-8a92-49f2-cf60-c918b8f654a9"
   },
   "outputs": [
    {
     "name": "stderr",
     "output_type": "stream",
     "text": [
      "/usr/local/lib/python3.6/dist-packages/ipykernel_launcher.py:1: SettingWithCopyWarning: \n",
      "A value is trying to be set on a copy of a slice from a DataFrame.\n",
      "Try using .loc[row_indexer,col_indexer] = value instead\n",
      "\n",
      "See the caveats in the documentation: https://pandas.pydata.org/pandas-docs/stable/user_guide/indexing.html#returning-a-view-versus-a-copy\n",
      "  \"\"\"Entry point for launching an IPython kernel.\n",
      "/usr/local/lib/python3.6/dist-packages/ipykernel_launcher.py:2: SettingWithCopyWarning: \n",
      "A value is trying to be set on a copy of a slice from a DataFrame.\n",
      "Try using .loc[row_indexer,col_indexer] = value instead\n",
      "\n",
      "See the caveats in the documentation: https://pandas.pydata.org/pandas-docs/stable/user_guide/indexing.html#returning-a-view-versus-a-copy\n",
      "  \n",
      "/usr/local/lib/python3.6/dist-packages/pandas/core/frame.py:2963: SettingWithCopyWarning: \n",
      "A value is trying to be set on a copy of a slice from a DataFrame.\n",
      "Try using .loc[row_indexer,col_indexer] = value instead\n",
      "\n",
      "See the caveats in the documentation: https://pandas.pydata.org/pandas-docs/stable/user_guide/indexing.html#returning-a-view-versus-a-copy\n",
      "  self[k1] = value[k2]\n"
     ]
    }
   ],
   "source": [
    "# datetime -> date, time\n",
    "y_prac['dropoff_dates'] = pd.to_datetime(y_prac['tpep_dropoff_datetime']).dt.date\n",
    "y_prac['dropoff_time'] = pd.to_datetime(y_prac['tpep_dropoff_datetime']).dt.time\n",
    "y_prac[['h','m','s']] = y_prac['dropoff_time'].astype(str).str.split(':', expand=True).astype(int)\n"
   ]
  },
  {
   "cell_type": "code",
   "execution_count": 0,
   "metadata": {
    "colab": {
     "base_uri": "https://localhost:8080/",
     "height": 191
    },
    "colab_type": "code",
    "id": "3X37GiJi9Uqz",
    "outputId": "f9ab8e8d-b4de-4f28-845c-a776f51fee5d"
   },
   "outputs": [
    {
     "data": {
      "text/html": [
       "<div>\n",
       "<style scoped>\n",
       "    .dataframe tbody tr th:only-of-type {\n",
       "        vertical-align: middle;\n",
       "    }\n",
       "\n",
       "    .dataframe tbody tr th {\n",
       "        vertical-align: top;\n",
       "    }\n",
       "\n",
       "    .dataframe thead th {\n",
       "        text-align: right;\n",
       "    }\n",
       "</style>\n",
       "<table border=\"1\" class=\"dataframe\">\n",
       "  <thead>\n",
       "    <tr style=\"text-align: right;\">\n",
       "      <th></th>\n",
       "      <th>tpep_pickup_datetime</th>\n",
       "      <th>tpep_dropoff_datetime</th>\n",
       "      <th>passenger_count</th>\n",
       "      <th>PULocationID</th>\n",
       "      <th>DOLocationID</th>\n",
       "      <th>Type</th>\n",
       "      <th>dropoff_dates</th>\n",
       "      <th>dropoff_time</th>\n",
       "      <th>h</th>\n",
       "      <th>m</th>\n",
       "      <th>s</th>\n",
       "    </tr>\n",
       "  </thead>\n",
       "  <tbody>\n",
       "    <tr>\n",
       "      <th>1</th>\n",
       "      <td>2019-09-01 00:29:17</td>\n",
       "      <td>2019-09-01 00:57:54</td>\n",
       "      <td>1.0</td>\n",
       "      <td>161</td>\n",
       "      <td>256</td>\n",
       "      <td>yellow</td>\n",
       "      <td>2019-09-01</td>\n",
       "      <td>00:57:54</td>\n",
       "      <td>0</td>\n",
       "      <td>57</td>\n",
       "      <td>54</td>\n",
       "    </tr>\n",
       "    <tr>\n",
       "      <th>2</th>\n",
       "      <td>2019-09-01 00:41:32</td>\n",
       "      <td>2019-09-01 00:41:36</td>\n",
       "      <td>1.0</td>\n",
       "      <td>145</td>\n",
       "      <td>145</td>\n",
       "      <td>yellow</td>\n",
       "      <td>2019-09-01</td>\n",
       "      <td>00:41:36</td>\n",
       "      <td>0</td>\n",
       "      <td>41</td>\n",
       "      <td>36</td>\n",
       "    </tr>\n",
       "    <tr>\n",
       "      <th>3</th>\n",
       "      <td>2019-09-01 00:59:11</td>\n",
       "      <td>2019-09-01 00:59:15</td>\n",
       "      <td>1.0</td>\n",
       "      <td>145</td>\n",
       "      <td>145</td>\n",
       "      <td>yellow</td>\n",
       "      <td>2019-09-01</td>\n",
       "      <td>00:59:15</td>\n",
       "      <td>0</td>\n",
       "      <td>59</td>\n",
       "      <td>15</td>\n",
       "    </tr>\n",
       "    <tr>\n",
       "      <th>4</th>\n",
       "      <td>2019-09-01 00:39:41</td>\n",
       "      <td>2019-09-01 00:45:06</td>\n",
       "      <td>1.0</td>\n",
       "      <td>95</td>\n",
       "      <td>93</td>\n",
       "      <td>yellow</td>\n",
       "      <td>2019-09-01</td>\n",
       "      <td>00:45:06</td>\n",
       "      <td>0</td>\n",
       "      <td>45</td>\n",
       "      <td>6</td>\n",
       "    </tr>\n",
       "    <tr>\n",
       "      <th>5</th>\n",
       "      <td>2019-09-01 00:00:08</td>\n",
       "      <td>2019-09-01 00:36:43</td>\n",
       "      <td>2.0</td>\n",
       "      <td>161</td>\n",
       "      <td>232</td>\n",
       "      <td>yellow</td>\n",
       "      <td>2019-09-01</td>\n",
       "      <td>00:36:43</td>\n",
       "      <td>0</td>\n",
       "      <td>36</td>\n",
       "      <td>43</td>\n",
       "    </tr>\n",
       "  </tbody>\n",
       "</table>\n",
       "</div>"
      ],
      "text/plain": [
       "  tpep_pickup_datetime tpep_dropoff_datetime  passenger_count  ...  h   m   s\n",
       "1  2019-09-01 00:29:17   2019-09-01 00:57:54              1.0  ...  0  57  54\n",
       "2  2019-09-01 00:41:32   2019-09-01 00:41:36              1.0  ...  0  41  36\n",
       "3  2019-09-01 00:59:11   2019-09-01 00:59:15              1.0  ...  0  59  15\n",
       "4  2019-09-01 00:39:41   2019-09-01 00:45:06              1.0  ...  0  45   6\n",
       "5  2019-09-01 00:00:08   2019-09-01 00:36:43              2.0  ...  0  36  43\n",
       "\n",
       "[5 rows x 11 columns]"
      ]
     },
     "execution_count": 64,
     "metadata": {
      "tags": []
     },
     "output_type": "execute_result"
    }
   ],
   "source": [
    "y_prac.head()"
   ]
  },
  {
   "cell_type": "code",
   "execution_count": 0,
   "metadata": {
    "colab": {},
    "colab_type": "code",
    "id": "BA-PHMuTFm9F"
   },
   "outputs": [],
   "source": [
    "y_2019['dropoff_dates'] = pd.to_datetime(y_2019['tpep_dropoff_datetime']).dt.date\n",
    "y_2019['dropoff_time'] = pd.to_datetime(y_2019['tpep_dropoff_datetime']).dt.time\n",
    "y_2019[['h','m','s']] = y_2019['dropoff_time'].astype(str).str.split(':', expand=True).astype(int)"
   ]
  },
  {
   "cell_type": "code",
   "execution_count": 0,
   "metadata": {
    "colab": {
     "base_uri": "https://localhost:8080/",
     "height": 191
    },
    "colab_type": "code",
    "id": "HUQKchBlJnvb",
    "outputId": "d81823a3-658e-4ba1-9cc6-15208de2a1c3"
   },
   "outputs": [
    {
     "data": {
      "text/html": [
       "<div>\n",
       "<style scoped>\n",
       "    .dataframe tbody tr th:only-of-type {\n",
       "        vertical-align: middle;\n",
       "    }\n",
       "\n",
       "    .dataframe tbody tr th {\n",
       "        vertical-align: top;\n",
       "    }\n",
       "\n",
       "    .dataframe thead th {\n",
       "        text-align: right;\n",
       "    }\n",
       "</style>\n",
       "<table border=\"1\" class=\"dataframe\">\n",
       "  <thead>\n",
       "    <tr style=\"text-align: right;\">\n",
       "      <th></th>\n",
       "      <th>tpep_pickup_datetime</th>\n",
       "      <th>tpep_dropoff_datetime</th>\n",
       "      <th>passenger_count</th>\n",
       "      <th>PULocationID</th>\n",
       "      <th>DOLocationID</th>\n",
       "      <th>Type</th>\n",
       "      <th>dropoff_dates</th>\n",
       "      <th>dropoff_time</th>\n",
       "      <th>h</th>\n",
       "      <th>m</th>\n",
       "      <th>s</th>\n",
       "    </tr>\n",
       "  </thead>\n",
       "  <tbody>\n",
       "    <tr>\n",
       "      <th>0</th>\n",
       "      <td>2019-09-01 00:06:48</td>\n",
       "      <td>2019-09-01 00:25:46</td>\n",
       "      <td>1.0</td>\n",
       "      <td>186</td>\n",
       "      <td>161</td>\n",
       "      <td>yellow</td>\n",
       "      <td>2019-09-01</td>\n",
       "      <td>00:25:46</td>\n",
       "      <td>0</td>\n",
       "      <td>25</td>\n",
       "      <td>46</td>\n",
       "    </tr>\n",
       "    <tr>\n",
       "      <th>1</th>\n",
       "      <td>2019-09-01 00:29:17</td>\n",
       "      <td>2019-09-01 00:57:54</td>\n",
       "      <td>1.0</td>\n",
       "      <td>161</td>\n",
       "      <td>256</td>\n",
       "      <td>yellow</td>\n",
       "      <td>2019-09-01</td>\n",
       "      <td>00:57:54</td>\n",
       "      <td>0</td>\n",
       "      <td>57</td>\n",
       "      <td>54</td>\n",
       "    </tr>\n",
       "    <tr>\n",
       "      <th>2</th>\n",
       "      <td>2019-09-01 00:41:32</td>\n",
       "      <td>2019-09-01 00:41:36</td>\n",
       "      <td>1.0</td>\n",
       "      <td>145</td>\n",
       "      <td>145</td>\n",
       "      <td>yellow</td>\n",
       "      <td>2019-09-01</td>\n",
       "      <td>00:41:36</td>\n",
       "      <td>0</td>\n",
       "      <td>41</td>\n",
       "      <td>36</td>\n",
       "    </tr>\n",
       "    <tr>\n",
       "      <th>3</th>\n",
       "      <td>2019-09-01 00:59:11</td>\n",
       "      <td>2019-09-01 00:59:15</td>\n",
       "      <td>1.0</td>\n",
       "      <td>145</td>\n",
       "      <td>145</td>\n",
       "      <td>yellow</td>\n",
       "      <td>2019-09-01</td>\n",
       "      <td>00:59:15</td>\n",
       "      <td>0</td>\n",
       "      <td>59</td>\n",
       "      <td>15</td>\n",
       "    </tr>\n",
       "    <tr>\n",
       "      <th>4</th>\n",
       "      <td>2019-09-01 00:39:41</td>\n",
       "      <td>2019-09-01 00:45:06</td>\n",
       "      <td>1.0</td>\n",
       "      <td>95</td>\n",
       "      <td>93</td>\n",
       "      <td>yellow</td>\n",
       "      <td>2019-09-01</td>\n",
       "      <td>00:45:06</td>\n",
       "      <td>0</td>\n",
       "      <td>45</td>\n",
       "      <td>6</td>\n",
       "    </tr>\n",
       "  </tbody>\n",
       "</table>\n",
       "</div>"
      ],
      "text/plain": [
       "  tpep_pickup_datetime tpep_dropoff_datetime  passenger_count  ...  h   m   s\n",
       "0  2019-09-01 00:06:48   2019-09-01 00:25:46              1.0  ...  0  25  46\n",
       "1  2019-09-01 00:29:17   2019-09-01 00:57:54              1.0  ...  0  57  54\n",
       "2  2019-09-01 00:41:32   2019-09-01 00:41:36              1.0  ...  0  41  36\n",
       "3  2019-09-01 00:59:11   2019-09-01 00:59:15              1.0  ...  0  59  15\n",
       "4  2019-09-01 00:39:41   2019-09-01 00:45:06              1.0  ...  0  45   6\n",
       "\n",
       "[5 rows x 11 columns]"
      ]
     },
     "execution_count": 66,
     "metadata": {
      "tags": []
     },
     "output_type": "execute_result"
    }
   ],
   "source": [
    "y_2019.head()"
   ]
  },
  {
   "cell_type": "markdown",
   "metadata": {
    "colab_type": "text",
    "id": "1E9b3-ciCGAG"
   },
   "source": [
    "## Dataframe wrt dropoff location number (43. Central Park)"
   ]
  },
  {
   "cell_type": "code",
   "execution_count": 0,
   "metadata": {
    "colab": {
     "base_uri": "https://localhost:8080/",
     "height": 391
    },
    "colab_type": "code",
    "id": "iXL1PQ3mCJ49",
    "outputId": "23549ea3-ea49-4fe2-ed16-1aa23b5253b3"
   },
   "outputs": [
    {
     "data": {
      "text/html": [
       "<div>\n",
       "<style scoped>\n",
       "    .dataframe tbody tr th:only-of-type {\n",
       "        vertical-align: middle;\n",
       "    }\n",
       "\n",
       "    .dataframe tbody tr th {\n",
       "        vertical-align: top;\n",
       "    }\n",
       "\n",
       "    .dataframe thead th {\n",
       "        text-align: right;\n",
       "    }\n",
       "</style>\n",
       "<table border=\"1\" class=\"dataframe\">\n",
       "  <thead>\n",
       "    <tr style=\"text-align: right;\">\n",
       "      <th></th>\n",
       "      <th>tpep_pickup_datetime</th>\n",
       "      <th>tpep_dropoff_datetime</th>\n",
       "      <th>passenger_count</th>\n",
       "      <th>PULocationID</th>\n",
       "      <th>DOLocationID</th>\n",
       "      <th>Type</th>\n",
       "      <th>dropoff_dates</th>\n",
       "      <th>dropoff_time</th>\n",
       "      <th>h</th>\n",
       "      <th>m</th>\n",
       "      <th>s</th>\n",
       "    </tr>\n",
       "  </thead>\n",
       "  <tbody>\n",
       "    <tr>\n",
       "      <th>142</th>\n",
       "      <td>2019-09-01 00:37:18</td>\n",
       "      <td>2019-09-01 00:51:57</td>\n",
       "      <td>1.0</td>\n",
       "      <td>226</td>\n",
       "      <td>43</td>\n",
       "      <td>yellow</td>\n",
       "      <td>2019-09-01</td>\n",
       "      <td>00:51:57</td>\n",
       "      <td>0</td>\n",
       "      <td>51</td>\n",
       "      <td>57</td>\n",
       "    </tr>\n",
       "    <tr>\n",
       "      <th>191</th>\n",
       "      <td>2019-09-01 00:48:28</td>\n",
       "      <td>2019-09-01 01:02:57</td>\n",
       "      <td>1.0</td>\n",
       "      <td>163</td>\n",
       "      <td>43</td>\n",
       "      <td>yellow</td>\n",
       "      <td>2019-09-01</td>\n",
       "      <td>01:02:57</td>\n",
       "      <td>1</td>\n",
       "      <td>2</td>\n",
       "      <td>57</td>\n",
       "    </tr>\n",
       "    <tr>\n",
       "      <th>393</th>\n",
       "      <td>2019-09-01 00:29:31</td>\n",
       "      <td>2019-09-01 00:44:18</td>\n",
       "      <td>4.0</td>\n",
       "      <td>234</td>\n",
       "      <td>43</td>\n",
       "      <td>yellow</td>\n",
       "      <td>2019-09-01</td>\n",
       "      <td>00:44:18</td>\n",
       "      <td>0</td>\n",
       "      <td>44</td>\n",
       "      <td>18</td>\n",
       "    </tr>\n",
       "    <tr>\n",
       "      <th>631</th>\n",
       "      <td>2019-09-01 00:53:08</td>\n",
       "      <td>2019-09-01 00:59:58</td>\n",
       "      <td>5.0</td>\n",
       "      <td>263</td>\n",
       "      <td>43</td>\n",
       "      <td>yellow</td>\n",
       "      <td>2019-09-01</td>\n",
       "      <td>00:59:58</td>\n",
       "      <td>0</td>\n",
       "      <td>59</td>\n",
       "      <td>58</td>\n",
       "    </tr>\n",
       "    <tr>\n",
       "      <th>803</th>\n",
       "      <td>2019-09-01 00:58:56</td>\n",
       "      <td>2019-09-01 01:08:58</td>\n",
       "      <td>1.0</td>\n",
       "      <td>164</td>\n",
       "      <td>43</td>\n",
       "      <td>yellow</td>\n",
       "      <td>2019-09-01</td>\n",
       "      <td>01:08:58</td>\n",
       "      <td>1</td>\n",
       "      <td>8</td>\n",
       "      <td>58</td>\n",
       "    </tr>\n",
       "    <tr>\n",
       "      <th>...</th>\n",
       "      <td>...</td>\n",
       "      <td>...</td>\n",
       "      <td>...</td>\n",
       "      <td>...</td>\n",
       "      <td>...</td>\n",
       "      <td>...</td>\n",
       "      <td>...</td>\n",
       "      <td>...</td>\n",
       "      <td>...</td>\n",
       "      <td>...</td>\n",
       "      <td>...</td>\n",
       "    </tr>\n",
       "    <tr>\n",
       "      <th>6532554</th>\n",
       "      <td>2019-09-30 23:28:56</td>\n",
       "      <td>2019-09-30 23:35:58</td>\n",
       "      <td>1.0</td>\n",
       "      <td>48</td>\n",
       "      <td>43</td>\n",
       "      <td>yellow</td>\n",
       "      <td>2019-09-30</td>\n",
       "      <td>23:35:58</td>\n",
       "      <td>23</td>\n",
       "      <td>35</td>\n",
       "      <td>58</td>\n",
       "    </tr>\n",
       "    <tr>\n",
       "      <th>6532585</th>\n",
       "      <td>2019-09-30 23:51:12</td>\n",
       "      <td>2019-09-30 23:54:16</td>\n",
       "      <td>1.0</td>\n",
       "      <td>236</td>\n",
       "      <td>43</td>\n",
       "      <td>yellow</td>\n",
       "      <td>2019-09-30</td>\n",
       "      <td>23:54:16</td>\n",
       "      <td>23</td>\n",
       "      <td>54</td>\n",
       "      <td>16</td>\n",
       "    </tr>\n",
       "    <tr>\n",
       "      <th>6532927</th>\n",
       "      <td>2019-09-30 23:58:22</td>\n",
       "      <td>2019-10-01 00:07:14</td>\n",
       "      <td>2.0</td>\n",
       "      <td>162</td>\n",
       "      <td>43</td>\n",
       "      <td>yellow</td>\n",
       "      <td>2019-10-01</td>\n",
       "      <td>00:07:14</td>\n",
       "      <td>0</td>\n",
       "      <td>7</td>\n",
       "      <td>14</td>\n",
       "    </tr>\n",
       "    <tr>\n",
       "      <th>6533083</th>\n",
       "      <td>2019-09-30 23:31:03</td>\n",
       "      <td>2019-09-30 23:39:39</td>\n",
       "      <td>1.0</td>\n",
       "      <td>141</td>\n",
       "      <td>43</td>\n",
       "      <td>yellow</td>\n",
       "      <td>2019-09-30</td>\n",
       "      <td>23:39:39</td>\n",
       "      <td>23</td>\n",
       "      <td>39</td>\n",
       "      <td>39</td>\n",
       "    </tr>\n",
       "    <tr>\n",
       "      <th>6533569</th>\n",
       "      <td>2019-09-30 23:39:40</td>\n",
       "      <td>2019-09-30 23:49:13</td>\n",
       "      <td>1.0</td>\n",
       "      <td>140</td>\n",
       "      <td>43</td>\n",
       "      <td>yellow</td>\n",
       "      <td>2019-09-30</td>\n",
       "      <td>23:49:13</td>\n",
       "      <td>23</td>\n",
       "      <td>49</td>\n",
       "      <td>13</td>\n",
       "    </tr>\n",
       "  </tbody>\n",
       "</table>\n",
       "<p>84657 rows × 11 columns</p>\n",
       "</div>"
      ],
      "text/plain": [
       "        tpep_pickup_datetime tpep_dropoff_datetime  passenger_count  ...   h   m   s\n",
       "142      2019-09-01 00:37:18   2019-09-01 00:51:57              1.0  ...   0  51  57\n",
       "191      2019-09-01 00:48:28   2019-09-01 01:02:57              1.0  ...   1   2  57\n",
       "393      2019-09-01 00:29:31   2019-09-01 00:44:18              4.0  ...   0  44  18\n",
       "631      2019-09-01 00:53:08   2019-09-01 00:59:58              5.0  ...   0  59  58\n",
       "803      2019-09-01 00:58:56   2019-09-01 01:08:58              1.0  ...   1   8  58\n",
       "...                      ...                   ...              ...  ...  ..  ..  ..\n",
       "6532554  2019-09-30 23:28:56   2019-09-30 23:35:58              1.0  ...  23  35  58\n",
       "6532585  2019-09-30 23:51:12   2019-09-30 23:54:16              1.0  ...  23  54  16\n",
       "6532927  2019-09-30 23:58:22   2019-10-01 00:07:14              2.0  ...   0   7  14\n",
       "6533083  2019-09-30 23:31:03   2019-09-30 23:39:39              1.0  ...  23  39  39\n",
       "6533569  2019-09-30 23:39:40   2019-09-30 23:49:13              1.0  ...  23  49  13\n",
       "\n",
       "[84657 rows x 11 columns]"
      ]
     },
     "execution_count": 67,
     "metadata": {
      "tags": []
     },
     "output_type": "execute_result"
    }
   ],
   "source": [
    "# with 2019 data \n",
    "y_2019_dropoff = y_2019[y_2019['DOLocationID']== 43]\n",
    "y_2019_dropoff= y_2019_dropoff.dropna()\n",
    "y_2019_dropoff"
   ]
  },
  {
   "cell_type": "code",
   "execution_count": 0,
   "metadata": {
    "colab": {
     "base_uri": "https://localhost:8080/",
     "height": 766
    },
    "colab_type": "code",
    "id": "PasAuIzqLZVo",
    "outputId": "e3d56060-4d0b-4321-aea2-5564459b933d"
   },
   "outputs": [
    {
     "data": {
      "text/html": [
       "<div>\n",
       "<style scoped>\n",
       "    .dataframe tbody tr th:only-of-type {\n",
       "        vertical-align: middle;\n",
       "    }\n",
       "\n",
       "    .dataframe tbody tr th {\n",
       "        vertical-align: top;\n",
       "    }\n",
       "\n",
       "    .dataframe thead th {\n",
       "        text-align: right;\n",
       "    }\n",
       "</style>\n",
       "<table border=\"1\" class=\"dataframe\">\n",
       "  <thead>\n",
       "    <tr style=\"text-align: right;\">\n",
       "      <th></th>\n",
       "      <th>passenger_count</th>\n",
       "    </tr>\n",
       "    <tr>\n",
       "      <th>h</th>\n",
       "      <th></th>\n",
       "    </tr>\n",
       "  </thead>\n",
       "  <tbody>\n",
       "    <tr>\n",
       "      <th>0</th>\n",
       "      <td>1312</td>\n",
       "    </tr>\n",
       "    <tr>\n",
       "      <th>1</th>\n",
       "      <td>675</td>\n",
       "    </tr>\n",
       "    <tr>\n",
       "      <th>2</th>\n",
       "      <td>373</td>\n",
       "    </tr>\n",
       "    <tr>\n",
       "      <th>3</th>\n",
       "      <td>247</td>\n",
       "    </tr>\n",
       "    <tr>\n",
       "      <th>4</th>\n",
       "      <td>212</td>\n",
       "    </tr>\n",
       "    <tr>\n",
       "      <th>5</th>\n",
       "      <td>294</td>\n",
       "    </tr>\n",
       "    <tr>\n",
       "      <th>6</th>\n",
       "      <td>995</td>\n",
       "    </tr>\n",
       "    <tr>\n",
       "      <th>7</th>\n",
       "      <td>2496</td>\n",
       "    </tr>\n",
       "    <tr>\n",
       "      <th>8</th>\n",
       "      <td>4275</td>\n",
       "    </tr>\n",
       "    <tr>\n",
       "      <th>9</th>\n",
       "      <td>4795</td>\n",
       "    </tr>\n",
       "    <tr>\n",
       "      <th>10</th>\n",
       "      <td>5325</td>\n",
       "    </tr>\n",
       "    <tr>\n",
       "      <th>11</th>\n",
       "      <td>5731</td>\n",
       "    </tr>\n",
       "    <tr>\n",
       "      <th>12</th>\n",
       "      <td>6257</td>\n",
       "    </tr>\n",
       "    <tr>\n",
       "      <th>13</th>\n",
       "      <td>5974</td>\n",
       "    </tr>\n",
       "    <tr>\n",
       "      <th>14</th>\n",
       "      <td>6040</td>\n",
       "    </tr>\n",
       "    <tr>\n",
       "      <th>15</th>\n",
       "      <td>6146</td>\n",
       "    </tr>\n",
       "    <tr>\n",
       "      <th>16</th>\n",
       "      <td>5396</td>\n",
       "    </tr>\n",
       "    <tr>\n",
       "      <th>17</th>\n",
       "      <td>5616</td>\n",
       "    </tr>\n",
       "    <tr>\n",
       "      <th>18</th>\n",
       "      <td>5754</td>\n",
       "    </tr>\n",
       "    <tr>\n",
       "      <th>19</th>\n",
       "      <td>4772</td>\n",
       "    </tr>\n",
       "    <tr>\n",
       "      <th>20</th>\n",
       "      <td>3666</td>\n",
       "    </tr>\n",
       "    <tr>\n",
       "      <th>21</th>\n",
       "      <td>3502</td>\n",
       "    </tr>\n",
       "    <tr>\n",
       "      <th>22</th>\n",
       "      <td>2710</td>\n",
       "    </tr>\n",
       "    <tr>\n",
       "      <th>23</th>\n",
       "      <td>2094</td>\n",
       "    </tr>\n",
       "  </tbody>\n",
       "</table>\n",
       "</div>"
      ],
      "text/plain": [
       "    passenger_count\n",
       "h                  \n",
       "0              1312\n",
       "1               675\n",
       "2               373\n",
       "3               247\n",
       "4               212\n",
       "5               294\n",
       "6               995\n",
       "7              2496\n",
       "8              4275\n",
       "9              4795\n",
       "10             5325\n",
       "11             5731\n",
       "12             6257\n",
       "13             5974\n",
       "14             6040\n",
       "15             6146\n",
       "16             5396\n",
       "17             5616\n",
       "18             5754\n",
       "19             4772\n",
       "20             3666\n",
       "21             3502\n",
       "22             2710\n",
       "23             2094"
      ]
     },
     "execution_count": 68,
     "metadata": {
      "tags": []
     },
     "output_type": "execute_result"
    }
   ],
   "source": [
    "y_2019_dropoff_plot= y_2019_dropoff.groupby('h').count()[['passenger_count']]\n",
    "y_2019_dropoff_plot"
   ]
  },
  {
   "cell_type": "code",
   "execution_count": 0,
   "metadata": {
    "colab": {},
    "colab_type": "code",
    "id": "00xWL7lXMKt3"
   },
   "outputs": [],
   "source": [
    "y_2019_dropoff_plot = y_2019_dropoff_plot.reset_index()"
   ]
  },
  {
   "cell_type": "markdown",
   "metadata": {
    "colab_type": "text",
    "id": "v3z76B42Us0H"
   },
   "source": [
    "## Plot"
   ]
  },
  {
   "cell_type": "code",
   "execution_count": 0,
   "metadata": {
    "colab": {
     "base_uri": "https://localhost:8080/",
     "height": 295
    },
    "colab_type": "code",
    "id": "lUPL5Vz5Mnuq",
    "outputId": "b72112a5-6155-4dae-8b76-73a389710e13"
   },
   "outputs": [
    {
     "data": {
      "text/plain": [
       "Text(0, 0.5, '# people')"
      ]
     },
     "execution_count": 71,
     "metadata": {
      "tags": []
     },
     "output_type": "execute_result"
    },
    {
     "data": {
      "image/png": "[encoded data removed]",
      "text/plain": [
       "<Figure size 432x288 with 1 Axes>"
      ]
     },
     "metadata": {
      "needs_background": "light",
      "tags": []
     },
     "output_type": "display_data"
    }
   ],
   "source": [
    "import matplotlib.pyplot as plt\n",
    "plt.bar(y_2019_dropoff_plot['h'],y_2019_dropoff_plot['passenger_count'])\n",
    "plt.xlabel('time (hour)')\n",
    "plt.ylabel('# people')"
   ]
  },
  {
   "cell_type": "markdown",
   "metadata": {
    "colab_type": "text",
    "id": "nId51h1GUZxw"
   },
   "source": [
    "# Part 2\n",
    "\n",
    "__This should be made as a function__\n",
    "1. Take input (date, location)\n",
    "2. from the input date and location (43), create new dataframe \n",
    "3. plot the data frame ( we don't need it ... maybe not? )\n",
    "4. If there are more people than threshold at the specific time and location number(user's input), add 2 hours on dropoff time. Then, see if the user can go there after 2 hours. ...etc.\n",
    "5. recommand the available dropoff time for user.\n",
    "6. Done \n",
    "\n",
    "\n",
    "\n"
   ]
  },
  {
   "cell_type": "markdown",
   "metadata": {
    "colab_type": "text",
    "id": "dQteBbNt8Dmr"
   },
   "source": [
    "The user needs to enter the dropoff ID of their destination. To convert the location to ID, we can use the following code. <br>\n",
    "TLC taxi zone location IDs, location names and corresponding boroughs for each ID is found at this url https://s3.amazonaws.com/nyc-tlc/misc/taxi+_zone_lookup.csv."
   ]
  },
  {
   "cell_type": "code",
   "execution_count": 0,
   "metadata": {
    "colab": {
     "base_uri": "https://localhost:8080/",
     "height": 927
    },
    "colab_type": "code",
    "id": "IAiHgyP88koe",
    "outputId": "99e18b03-3d45-4013-bb4e-f946457872f1"
   },
   "outputs": [
    {
     "name": "stdout",
     "output_type": "stream",
     "text": [
      "     LocationID    Borough                                           Zone\n",
      "3             4  Manhattan                                  Alphabet City\n",
      "11           12  Manhattan                                   Battery Park\n",
      "12           13  Manhattan                              Battery Park City\n",
      "23           24  Manhattan                                   Bloomingdale\n",
      "42           43  Manhattan                                   Central Park\n",
      "44           45  Manhattan                                      Chinatown\n",
      "47           48  Manhattan                                   Clinton East\n",
      "49           50  Manhattan                                   Clinton West\n",
      "67           68  Manhattan                                   East Chelsea\n",
      "78           79  Manhattan                                   East Village\n",
      "86           87  Manhattan                       Financial District North\n",
      "87           88  Manhattan                       Financial District South\n",
      "89           90  Manhattan                                       Flatiron\n",
      "99          100  Manhattan                               Garment District\n",
      "102         103  Manhattan  Governor's Island/Ellis Island/Liberty Island\n",
      "103         104  Manhattan  Governor's Island/Ellis Island/Liberty Island\n",
      "104         105  Manhattan  Governor's Island/Ellis Island/Liberty Island\n",
      "106         107  Manhattan                                       Gramercy\n",
      "112         113  Manhattan                        Greenwich Village North\n",
      "113         114  Manhattan                        Greenwich Village South\n",
      "124         125  Manhattan                                      Hudson Sq\n",
      "136         137  Manhattan                                       Kips Bay\n",
      "139         140  Manhattan                                Lenox Hill East\n",
      "140         141  Manhattan                                Lenox Hill West\n",
      "141         142  Manhattan                            Lincoln Square East\n",
      "142         143  Manhattan                            Lincoln Square West\n",
      "143         144  Manhattan                            Little Italy/NoLiTa\n",
      "147         148  Manhattan                                Lower East Side\n",
      "150         151  Manhattan                               Manhattan Valley\n",
      "157         158  Manhattan                  Meatpacking/West Village West\n",
      "160         161  Manhattan                                 Midtown Center\n",
      "161         162  Manhattan                                   Midtown East\n",
      "162         163  Manhattan                                  Midtown North\n",
      "163         164  Manhattan                                  Midtown South\n",
      "169         170  Manhattan                                    Murray Hill\n",
      "185         186  Manhattan                   Penn Station/Madison Sq West\n",
      "193         194  Manhattan                                Randalls Island\n",
      "208         209  Manhattan                                        Seaport\n",
      "210         211  Manhattan                                           SoHo\n",
      "223         224  Manhattan                 Stuy Town/Peter Cooper Village\n",
      "228         229  Manhattan                  Sutton Place/Turtle Bay North\n",
      "229         230  Manhattan                      Times Sq/Theatre District\n",
      "230         231  Manhattan                           TriBeCa/Civic Center\n",
      "231         232  Manhattan                        Two Bridges/Seward Park\n",
      "232         233  Manhattan                            UN/Turtle Bay South\n",
      "233         234  Manhattan                                       Union Sq\n",
      "235         236  Manhattan                          Upper East Side North\n",
      "236         237  Manhattan                          Upper East Side South\n",
      "237         238  Manhattan                          Upper West Side North\n",
      "238         239  Manhattan                          Upper West Side South\n",
      "245         246  Manhattan                      West Chelsea/Hudson Yards\n",
      "248         249  Manhattan                                   West Village\n",
      "260         261  Manhattan                             World Trade Center\n",
      "261         262  Manhattan                                 Yorkville East\n",
      "262         263  Manhattan                                 Yorkville West\n"
     ]
    }
   ],
   "source": [
    "import pandas as pd\n",
    "data = pd.read_csv('https://s3.amazonaws.com/nyc-tlc/misc/taxi+_zone_lookup.csv')\n",
    "yellow=data[data['service_zone'] == \"Yellow Zone\"] \n",
    "yellow2=yellow.drop(columns=['service_zone'], axis=1)\n",
    "\n",
    "print(yellow2)\n"
   ]
  },
  {
   "cell_type": "markdown",
   "metadata": {
    "colab_type": "text",
    "id": "zdwYUEFDwXhM"
   },
   "source": [
    "# Application\n",
    "In this part, we take user's input and give them a result of <br>\n",
    "__current population of the location, maximum allowed safe capacity,__ and __recommandation time__\n",
    "- Date\n",
    "- Location ID (43)\n",
    "- Drop-off time"
   ]
  },
  {
   "cell_type": "markdown",
   "metadata": {
    "colab_type": "text",
    "id": "qt4nmx30v0VB"
   },
   "source": [
    "## Input date (%Y-%m-%d)\n",
    "\n",
    "NOTE: since we are using only the September 2019 data, please enter the date between __2019-09-01__ and  __2019-09-30__"
   ]
  },
  {
   "cell_type": "code",
   "execution_count": 0,
   "metadata": {
    "colab": {
     "base_uri": "https://localhost:8080/",
     "height": 33
    },
    "colab_type": "code",
    "id": "zpcGmLeOq38e",
    "outputId": "b7c8a94f-f714-43f8-b2c9-aa0419257dc5"
   },
   "outputs": [
    {
     "name": "stdout",
     "output_type": "stream",
     "text": [
      "Enter desired arrival date: 2019-09-02\n"
     ]
    }
   ],
   "source": [
    "user_date = input(\"Enter desired arrival date: \")"
   ]
  },
  {
   "cell_type": "markdown",
   "metadata": {
    "colab_type": "text",
    "id": "iu2az3Ebv9bl"
   },
   "source": [
    "## Input Location ID (43)"
   ]
  },
  {
   "cell_type": "code",
   "execution_count": 0,
   "metadata": {
    "colab": {
     "base_uri": "https://localhost:8080/",
     "height": 33
    },
    "colab_type": "code",
    "id": "-_o0qn2ErW8M",
    "outputId": "7bc018b5-4273-4778-a543-e40f2ac2663a"
   },
   "outputs": [
    {
     "name": "stdout",
     "output_type": "stream",
     "text": [
      "Enter drop off location ID: 43\n"
     ]
    }
   ],
   "source": [
    "user_loc = input(\"Enter drop off location ID: \")"
   ]
  },
  {
   "cell_type": "markdown",
   "metadata": {
    "colab_type": "text",
    "id": "N41tbF4uwCdi"
   },
   "source": [
    "## Input Time (ex. 12:30)"
   ]
  },
  {
   "cell_type": "code",
   "execution_count": 0,
   "metadata": {
    "colab": {
     "base_uri": "https://localhost:8080/",
     "height": 33
    },
    "colab_type": "code",
    "id": "Gifz_Gjgzeth",
    "outputId": "884b30e3-7c99-4f96-8e2d-cbafb4403af1"
   },
   "outputs": [
    {
     "name": "stdout",
     "output_type": "stream",
     "text": [
      "Enter what time you would like to book a slot (24H format): 9:20\n"
     ]
    }
   ],
   "source": [
    "user_time = input(\"Enter what time you would like to book a slot (24H format): \")"
   ]
  },
  {
   "cell_type": "markdown",
   "metadata": {
    "colab_type": "text",
    "id": "pgqgYBsRzw0W"
   },
   "source": [
    "## System"
   ]
  },
  {
   "cell_type": "code",
   "execution_count": 0,
   "metadata": {
    "colab": {
     "base_uri": "https://localhost:8080/",
     "height": 163
    },
    "colab_type": "code",
    "id": "xf81P-NOEH2Q",
    "outputId": "1cdf74e9-488a-4b62-bd33-a3f596b41f12"
   },
   "outputs": [
    {
     "name": "stdout",
     "output_type": "stream",
     "text": [
      "At the chosen time, the current population is\n",
      "4795\n",
      "\n",
      "The maximum allowed safe capacity is\n",
      "3527\n",
      "\n",
      "Sorry user, you cannot make a reservation at:  9:20\n",
      "Available time is:  [21, 22, 23]\n",
      "The earliest time is:  21\n"
     ]
    }
   ],
   "source": [
    "#from datetime import datetime, timedelta\n",
    "#then = datetime.strptime(user_time, '%Y-%m-%d').date()\n",
    "#user_hour = then.hour\n",
    "user_count=0\n",
    "user_hour = user_time.partition(\":\")[0]\n",
    "\n",
    "for x in range(24):\n",
    "  if (int(y_2019_dropoff_plot.h[x]) is int(user_hour)):\n",
    "    user_count = y_2019_dropoff_plot.passenger_count[x]\n",
    "    break\n",
    "print(\"At the chosen time, the current population is\")\n",
    "print(user_count)\n",
    "print()\n",
    "\n",
    "##DEFINE THRESHOLD\n",
    "print(\"The maximum allowed safe capacity is\")\n",
    "\n",
    "#threshold=4000 #threshold set by system administrator\n",
    "threshold=sum(y_2019_dropoff_plot.passenger_count)/len(y_2019_dropoff_plot.passenger_count) #threshold calculated by average over the plot\n",
    "print(int(threshold))\n",
    "print()\n",
    "\n",
    "#original\n",
    "\n",
    "# if int(threshold) <= int(user_count):\n",
    "#   for x in range(int(user_hour),24):\n",
    "#     if (int(y_2019_dropoff_plot.passenger_count[x]) < int(threshold)):\n",
    "#       recom_hour = y_2019_dropoff_plot.h[x]\n",
    "#       break\n",
    "\n",
    "# print(\"We recommend you book when the number of bookings is below the maximum allowed safe capacity, which is at\")\n",
    "# print(recom_hour,\":00\")\n",
    "\n",
    "\n",
    "recom_ls = []\n",
    "\n",
    "if int(threshold) > int(user_count):\n",
    "  recom_hour = user_hour\n",
    "  print(\"Hurray! you are safe!\")\n",
    "  print(\"We made a reservation at:\", user_time)\n",
    "\n",
    "else:\n",
    "  print(\"Sorry user, you cannot make a reservation at: \", user_time)\n",
    "  for x in range(int(user_hour),24):\n",
    "    if y_2019_dropoff_plot.passenger_count[x] < int(threshold):\n",
    "      recom_ls.append(x)\n",
    "  min_recom = min(recom_ls)\n",
    "  print(\"Available time is: \",recom_ls)\n",
    "  print(\"The earliest time is: \", min_recom)\n",
    "\n"
   ]
  }
 ],
 "metadata": {
  "colab": {
   "collapsed_sections": [],
   "name": "project_4.ipynb",
   "provenance": []
  },
  "kernelspec": {
   "display_name": "Python 3",
   "language": "python",
   "name": "python3"
  },
  "language_info": {
   "codemirror_mode": {
    "name": "ipython",
    "version": 3
   },
   "file_extension": ".py",
   "mimetype": "text/x-python",
   "name": "python",
   "nbconvert_exporter": "python",
   "pygments_lexer": "ipython3",
   "version": "3.7.6"
  },
  "toc": {
   "base_numbering": 1,
   "nav_menu": {},
   "number_sections": false,
   "sideBar": true,
   "skip_h1_title": false,
   "title_cell": "Table of Contents",
   "title_sidebar": "Contents",
   "toc_cell": false,
   "toc_position": {},
   "toc_section_display": true,
   "toc_window_display": true
  }
 },
 "nbformat": 4,
 "nbformat_minor": 1
}
